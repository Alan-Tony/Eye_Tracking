{
 "cells": [
  {
   "cell_type": "code",
   "execution_count": 8,
   "metadata": {},
   "outputs": [
    {
     "name": "stdout",
     "output_type": "stream",
     "text": [
      "Number of contours in the image =  1\n",
      "[[[ 152  198  179 4525]]\n",
      "\n",
      " [[   0   50   23 4497]]\n",
      "\n",
      " [[  51  100   77 4598]]\n",
      "\n",
      " [[ 102  151  125 4510]]]\n"
     ]
    }
   ],
   "source": [
    "import cv2 as cv\n",
    "import numpy as np\n",
    "\n",
    "star = cv.imread('star.png', 0)\n",
    "_, thresh = cv.threshold(star, 100, 255, cv.THRESH_BINARY)\n",
    "\n",
    "#cv.imshow('star', thresh)\n",
    "\n",
    "contours, heirarchy = cv.findContours(thresh, cv.RETR_LIST, cv.CHAIN_APPROX_SIMPLE)\n",
    "thresh = cv.cvtColor(star, cv.COLOR_GRAY2BGR)\n",
    "\n",
    "star = cv.drawContours(thresh, contours, -1, (0, 0, 255), 2)\n",
    "#cv.imshow('Contours', star)\n",
    "\n",
    "print('Number of contours in the image = ', len(contours))\n",
    "cnt = contours[0]\n",
    "\n",
    "hull = cv.convexHull(cnt, returnPoints = False)\n",
    "defects = cv.convexityDefects(cnt, hull)\n",
    "\n",
    "print(defects)\n",
    "\n",
    "cv.waitKey(0)\n",
    "cv.destroyAllWindows()"
   ]
  },
  {
   "cell_type": "code",
   "execution_count": null,
   "metadata": {},
   "outputs": [],
   "source": []
  }
 ],
 "metadata": {
  "kernelspec": {
   "display_name": "Python 3",
   "language": "python",
   "name": "python3"
  },
  "language_info": {
   "codemirror_mode": {
    "name": "ipython",
    "version": 3
   },
   "file_extension": ".py",
   "mimetype": "text/x-python",
   "name": "python",
   "nbconvert_exporter": "python",
   "pygments_lexer": "ipython3",
   "version": "3.8.2"
  }
 },
 "nbformat": 4,
 "nbformat_minor": 4
}
